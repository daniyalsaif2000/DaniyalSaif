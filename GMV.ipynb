{
 "cells": [
  {
   "cell_type": "code",
   "execution_count": 74,
   "metadata": {},
   "outputs": [],
   "source": [
    "import pandas as pd\n",
    "import matplotlib.pyplot as plt"
   ]
  },
  {
   "cell_type": "code",
   "execution_count": 75,
   "metadata": {},
   "outputs": [],
   "source": [
    "data  = pd.read_csv('C:/Users/Hp/Desktop/bdata.csv')"
   ]
  },
  {
   "cell_type": "code",
   "execution_count": 76,
   "metadata": {},
   "outputs": [],
   "source": [
    "first  = data[(data['hour'] >= 9) & (data['hour'] <= 12)]\n",
    "second = data[(data['hour'] > 12) & (data['hour'] <= 15)]  \n",
    "third  = data[(data['hour'] > 15) & (data['hour'] <= 18)] \n",
    "forth  = data[(data['hour'] > 18) & (data['hour'] <= 21)] "
   ]
  },
  {
   "cell_type": "code",
   "execution_count": 84,
   "metadata": {},
   "outputs": [],
   "source": [
    "new_list =['Snacks', 'Baby Care', 'Dairy' ,'Pasta & Noodles' ,'Oil aur Ghee',\n",
    " 'Personal Care' ,'Beverages', 'Daal', 'Sauces', 'Masala' ,'Anaaj', 'Aata',\n",
    " 'Safai', 'Chaawal', 'Cigarettes Aur Nicotine', 'Cheeni' ,'Chai aur Coffee',\n",
    " 'test Cigarretess Nicotinee' ,'Meetha', 'Test category', 'Basket Deals',\n",
    " 'GIFT Paiya', 'Khajoor']"
   ]
  },
  {
   "cell_type": "code",
   "execution_count": 113,
   "metadata": {},
   "outputs": [],
   "source": [
    "# snacks = data[(data['hour'] >= 9) & (data['hour'] <= 12) & (data['core_category'] =='Snacks')]\n",
    "# Baby_Care = data[(data['hour'] >= 9) & (data['hour'] <= 12) & (data['core_category'] =='Baby Care')]\n",
    "# Dairy = data[(data['hour'] >= 9) & (data['hour'] <= 12) & (data['core_category'] =='Dairy')]\n",
    "# Khajoor = data[(data['hour'] >= 9) & (data['hour'] <= 12) & (data['core_category'] =='Khajoor')]\n",
    "# Oil = data[(data['hour'] >= 9) & (data['hour'] <= 12) & (data['core_category'] =='Oil aur Ghee')]\n",
    "# Personal_Care = data[(data['hour'] >= 9) & (data['hour'] <= 12) & (data['core_category'] =='Personal Care')]\n",
    "# Beverages = data[(data['hour'] >= 9) & (data['hour'] <= 12) & (data['core_category'] =='Beverages')]\n",
    "# Daal = data[(data['hour'] >= 9) & (data['hour'] <= 12) & (data['core_category'] =='Daal')]\n",
    "# Masala = data[(data['hour'] >= 9) & (data['hour'] <= 12) & (data['core_category'] =='Masala')]\n",
    "# Anaaj = data[(data['hour'] >= 9) & (data['hour'] <= 12) & (data['core_category'] =='Anaaj')]\n",
    "# Aata = data[(data['hour'] >= 9) & (data['hour'] <= 12) & (data['core_category'] =='Aata')]\n",
    "# Safai = data[(data['hour'] >= 9) & (data['hour'] <= 12) & (data['core_category'] =='Safai')]\n",
    "# Chaawal = data[(data['hour'] >= 9) & (data['hour'] <= 12) & (data['core_category'] =='Chaawal')]\n",
    "# Cigarettes = data[(data['hour'] >= 9) & (data['hour'] <= 12) & (data['core_category'] =='Cigarettes Aur Nicotine')]\n",
    "# Cheeni = data[(data['hour'] >= 9) & (data['hour'] <= 12) & (data['core_category'] =='Cheeni')]\n",
    "# Chai = data[(data['hour'] >= 9) & (data['hour'] <= 12) & (data['core_category'] =='Chai aur Coffee')]\n",
    "# test = data[(data['hour'] >= 9) & (data['hour'] <= 12) & (data['core_category'] =='test Cigarretess Nicotinee')]\n",
    "# Test_category = data[(data['hour'] >= 9) & (data['hour'] <= 12) & (data['core_category'] =='Meetha')]\n",
    "# Basket_Deals = data[(data['hour'] >= 9) & (data['hour'] <= 12) & (data['core_category'] =='Basket Deals')]\n",
    "# GIFT_Paiya = data[(data['hour'] >= 9) & (data['hour'] <= 12) & (data['core_category'] =='GIFT Paiya')]\n",
    "# Khajoor = data[(data['hour'] >= 9) & (data['hour'] <= 12) & (data['core_category'] =='Khajoor')]\n"
   ]
  },
  {
   "cell_type": "code",
   "execution_count": 123,
   "metadata": {},
   "outputs": [],
   "source": [
    "snacks = first['core_category'] =='Snacks'\n",
    "snacks = first['core_category'] =='Snacks'\n",
    "snacks = first['core_category'] =='Snacks'\n",
    "snacks = first['core_category'] =='Snacks'\n",
    "snacks = first['core_category'] =='Snacks'\n",
    "\n",
    "snacks = first['core_category'] =='Snacks'\n",
    "\n",
    "snacks = first['core_category'] =='Snacks'\n",
    "\n",
    "snacks = first['core_category'] =='Snacks'\n",
    "\n",
    "snacks = first['core_category'] =='Snacks'\n",
    "\n"
   ]
  },
  {
   "cell_type": "code",
   "execution_count": null,
   "metadata": {},
   "outputs": [],
   "source": []
  },
  {
   "cell_type": "code",
   "execution_count": 122,
   "metadata": {},
   "outputs": [],
   "source": [
    "data_list =[]"
   ]
  },
  {
   "cell_type": "code",
   "execution_count": 87,
   "metadata": {},
   "outputs": [],
   "source": [
    "def getdata(x):\n",
    "    x = x['GMV'].sum()\n",
    "    data_list.append(x)"
   ]
  },
  {
   "cell_type": "code",
   "execution_count": 109,
   "metadata": {},
   "outputs": [
    {
     "name": "stdout",
     "output_type": "stream",
     "text": [
      "[7449551.0, 2194647.0, 8186554.0, 112072177.0, 18272598.07379575, 32020841.0, 19623278.0, 21276797.0, 3950104.0, 41896036.0, 10639092.5914334, 37558068.12890001, 29250700.0, 54145527.0, 12231247.399902001, 1602.0, 809107.0, 0.0, 0.0, 902.0]\n"
     ]
    }
   ],
   "source": [
    "getdata(Khajoor)\n",
    "print(data_list)"
   ]
  },
  {
   "cell_type": "code",
   "execution_count": 112,
   "metadata": {},
   "outputs": [
    {
     "data": {
      "text/plain": [
       "23"
      ]
     },
     "execution_count": 112,
     "metadata": {},
     "output_type": "execute_result"
    }
   ],
   "source": []
  }
 ],
 "metadata": {
  "kernelspec": {
   "display_name": "Python 3",
   "language": "python",
   "name": "python3"
  },
  "language_info": {
   "codemirror_mode": {
    "name": "ipython",
    "version": 3
   },
   "file_extension": ".py",
   "mimetype": "text/x-python",
   "name": "python",
   "nbconvert_exporter": "python",
   "pygments_lexer": "ipython3",
   "version": "3.7.6"
  }
 },
 "nbformat": 4,
 "nbformat_minor": 4
}
